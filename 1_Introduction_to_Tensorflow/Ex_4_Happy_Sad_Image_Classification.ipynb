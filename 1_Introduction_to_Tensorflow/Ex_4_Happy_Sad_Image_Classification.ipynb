{
  "nbformat": 4,
  "nbformat_minor": 0,
  "metadata": {
    "colab": {
      "name": "Ex_4_Happy_Sad_Image_Classification.ipynb",
      "provenance": [],
      "collapsed_sections": []
    },
    "kernelspec": {
      "name": "python3",
      "display_name": "Python 3"
    },
    "language_info": {
      "name": "python"
    }
  },
  "cells": [
    {
      "cell_type": "markdown",
      "metadata": {
        "id": "gzV8mp4fkjCo"
      },
      "source": [
        "# Exercise 04\n",
        "\n",
        "Below is code with a link to a happy or sad dataset which contains 80 images, 40 happy and 40 sad. Create a convolutional neural network that trains to 100% accuracy on these images, which cancels training upon hitting training accuracy of >.999\n",
        "\n",
        "Hint -- it will work best with 3 convolutional layers."
      ]
    },
    {
      "cell_type": "markdown",
      "metadata": {
        "id": "CDIw1emImZA8"
      },
      "source": [
        "# Importing Libararies"
      ]
    },
    {
      "cell_type": "code",
      "metadata": {
        "id": "Z2An_qV6kY_j"
      },
      "source": [
        "import tensorflow as tf\n",
        "import os\n",
        "import zipfile\n",
        "\n",
        "from tensorflow.keras.preprocessing.image import ImageDataGenerator"
      ],
      "execution_count": 5,
      "outputs": []
    },
    {
      "cell_type": "markdown",
      "metadata": {
        "id": "GEmrld8Ymbdi"
      },
      "source": [
        "# Download Data Set"
      ]
    },
    {
      "cell_type": "code",
      "metadata": {
        "colab": {
          "base_uri": "https://localhost:8080/"
        },
        "id": "TewHo2fgkvbT",
        "outputId": "94a109e5-2de3-4698-bcf1-db5e46607a9a"
      },
      "source": [
        "!wget --no-check-certificate \\\n",
        "    \"https://storage.googleapis.com/laurencemoroney-blog.appspot.com/happy-or-sad.zip\" \\\n",
        "    -O \"/tmp/happy-or-sad.zip\""
      ],
      "execution_count": 2,
      "outputs": [
        {
          "output_type": "stream",
          "name": "stdout",
          "text": [
            "--2021-09-15 08:29:26--  https://storage.googleapis.com/laurencemoroney-blog.appspot.com/happy-or-sad.zip\n",
            "Resolving storage.googleapis.com (storage.googleapis.com)... 172.253.62.128, 172.253.115.128, 172.253.122.128, ...\n",
            "Connecting to storage.googleapis.com (storage.googleapis.com)|172.253.62.128|:443... connected.\n",
            "HTTP request sent, awaiting response... 200 OK\n",
            "Length: 2670333 (2.5M) [application/zip]\n",
            "Saving to: ‘/tmp/happy-or-sad.zip’\n",
            "\n",
            "/tmp/happy-or-sad.z 100%[===================>]   2.55M  --.-KB/s    in 0.02s   \n",
            "\n",
            "2021-09-15 08:29:26 (121 MB/s) - ‘/tmp/happy-or-sad.zip’ saved [2670333/2670333]\n",
            "\n"
          ]
        }
      ]
    },
    {
      "cell_type": "code",
      "metadata": {
        "id": "t2tirh3hkvdp"
      },
      "source": [
        "zipref = zipfile.ZipFile('/tmp/happy-or-sad.zip', 'r')\n",
        "zipref.extractall('/tmp/h-or-s')\n",
        "zipref.close()"
      ],
      "execution_count": 3,
      "outputs": []
    },
    {
      "cell_type": "code",
      "metadata": {
        "colab": {
          "base_uri": "https://localhost:8080/"
        },
        "id": "a3_nr7uckvgL",
        "outputId": "f2fc6224-5cba-4347-e478-0174772fc294"
      },
      "source": [
        "!ls /tmp/h-or-s/"
      ],
      "execution_count": 4,
      "outputs": [
        {
          "output_type": "stream",
          "name": "stdout",
          "text": [
            "happy  sad\n"
          ]
        }
      ]
    },
    {
      "cell_type": "markdown",
      "metadata": {
        "id": "zmKWCHtGmekt"
      },
      "source": [
        "# Preprocess Dataset"
      ]
    },
    {
      "cell_type": "code",
      "metadata": {
        "colab": {
          "base_uri": "https://localhost:8080/"
        },
        "id": "q5iJ6fpsmhIk",
        "outputId": "098c1ee0-aeb6-43ed-f721-c6ef9ce6efa5"
      },
      "source": [
        "base_dir = '/tmp/h-or-s/'\n",
        "print(base_dir)\n",
        "\n",
        "train_data_gen = ImageDataGenerator(rescale=1/255.0)\n",
        "\n",
        "train_generator = train_data_gen.flow_from_directory(directory=base_dir,\n",
        "                                                     target_size=(150, 150),\n",
        "                                                     class_mode='binary',\n",
        "                                                     batch_size=10)\n"
      ],
      "execution_count": 25,
      "outputs": [
        {
          "output_type": "stream",
          "name": "stdout",
          "text": [
            "/tmp/h-or-s/\n",
            "Found 80 images belonging to 2 classes.\n"
          ]
        }
      ]
    },
    {
      "cell_type": "code",
      "metadata": {
        "colab": {
          "base_uri": "https://localhost:8080/"
        },
        "id": "pEtkFi-0qMqp",
        "outputId": "99af567c-f948-4aa2-fd14-506afb3f3dfe"
      },
      "source": [
        "train_generator"
      ],
      "execution_count": 22,
      "outputs": [
        {
          "output_type": "execute_result",
          "data": {
            "text/plain": [
              "<keras.preprocessing.image.DirectoryIterator at 0x7f4071283890>"
            ]
          },
          "metadata": {},
          "execution_count": 22
        }
      ]
    },
    {
      "cell_type": "markdown",
      "metadata": {
        "id": "Q3kWGZitmhV_"
      },
      "source": [
        "# Create the Model"
      ]
    },
    {
      "cell_type": "code",
      "metadata": {
        "id": "EBMrYtiPkviW"
      },
      "source": [
        "DESIRED_ACCURACY = 0.999\n",
        "\n",
        "\n",
        "class myCallbacks(tf.keras.callbacks.Callback):\n",
        "  def on_epoch_end(self, epoch, logs={}):\n",
        "    if logs.get('accuracy') > DESIRED_ACCURACY:\n",
        "      print('Reached 99.9% accuracy, cancelling training')\n",
        "      self.model.stop_training = True\n",
        "\n",
        "\n",
        "callbacks = myCallbacks() "
      ],
      "execution_count": 15,
      "outputs": []
    },
    {
      "cell_type": "code",
      "metadata": {
        "id": "vIvh-kRAkvkw"
      },
      "source": [
        "model = tf.keras.models.Sequential([\n",
        "    tf.keras.layers.Conv2D(filters=16, kernel_size=(3, 3), activation='relu', input_shape=(150, 150, 3)),\n",
        "    tf.keras.layers.MaxPool2D(pool_size=(2, 2)),\n",
        "    tf.keras.layers.Conv2D(32, (3, 3), activation='relu'),\n",
        "    tf.keras.layers.MaxPool2D((2, 2)),\n",
        "    tf.keras.layers.Conv2D(32, (3, 3), activation='relu'),\n",
        "    tf.keras.layers.MaxPool2D((2, 2)),\n",
        "    tf.keras.layers.Flatten(),\n",
        "    tf.keras.layers.Dense(512, activation='relu'),\n",
        "    tf.keras.layers.Dense(1, activation='sigmoid')\n",
        "])"
      ],
      "execution_count": 27,
      "outputs": []
    },
    {
      "cell_type": "code",
      "metadata": {
        "colab": {
          "base_uri": "https://localhost:8080/"
        },
        "id": "xRGxMWHekvnE",
        "outputId": "254751c0-3049-4dac-9e49-6822f7ee944e"
      },
      "source": [
        "model.compile(\n",
        "    loss = tf.keras.losses.BinaryCrossentropy(),\n",
        "    optimizer = tf.keras.optimizers.RMSprop(learning_rate=0.001),\n",
        "    metrics = ['accuracy']\n",
        ")\n",
        "\n",
        "model.summary()"
      ],
      "execution_count": 28,
      "outputs": [
        {
          "output_type": "stream",
          "name": "stdout",
          "text": [
            "Model: \"sequential_3\"\n",
            "_________________________________________________________________\n",
            "Layer (type)                 Output Shape              Param #   \n",
            "=================================================================\n",
            "conv2d_9 (Conv2D)            (None, 148, 148, 16)      448       \n",
            "_________________________________________________________________\n",
            "max_pooling2d_9 (MaxPooling2 (None, 74, 74, 16)        0         \n",
            "_________________________________________________________________\n",
            "conv2d_10 (Conv2D)           (None, 72, 72, 32)        4640      \n",
            "_________________________________________________________________\n",
            "max_pooling2d_10 (MaxPooling (None, 36, 36, 32)        0         \n",
            "_________________________________________________________________\n",
            "conv2d_11 (Conv2D)           (None, 34, 34, 32)        9248      \n",
            "_________________________________________________________________\n",
            "max_pooling2d_11 (MaxPooling (None, 17, 17, 32)        0         \n",
            "_________________________________________________________________\n",
            "flatten_3 (Flatten)          (None, 9248)              0         \n",
            "_________________________________________________________________\n",
            "dense_6 (Dense)              (None, 512)               4735488   \n",
            "_________________________________________________________________\n",
            "dense_7 (Dense)              (None, 1)                 513       \n",
            "=================================================================\n",
            "Total params: 4,750,337\n",
            "Trainable params: 4,750,337\n",
            "Non-trainable params: 0\n",
            "_________________________________________________________________\n"
          ]
        }
      ]
    },
    {
      "cell_type": "code",
      "metadata": {
        "colab": {
          "base_uri": "https://localhost:8080/"
        },
        "id": "2rjYASEPkvpX",
        "outputId": "0442849a-126a-4173-975e-e29134ae14cc"
      },
      "source": [
        "history = model.fit(train_generator,\n",
        "                    epochs=15,\n",
        "                    steps_per_epoch=8,\n",
        "                    callbacks=[callbacks])"
      ],
      "execution_count": 29,
      "outputs": [
        {
          "output_type": "stream",
          "name": "stdout",
          "text": [
            "Epoch 1/15\n",
            "8/8 [==============================] - 3s 220ms/step - loss: 2.1812 - accuracy: 0.4625\n",
            "Epoch 2/15\n",
            "8/8 [==============================] - 2s 211ms/step - loss: 0.4171 - accuracy: 0.7875\n",
            "Epoch 3/15\n",
            "8/8 [==============================] - 2s 213ms/step - loss: 0.1954 - accuracy: 0.9500\n",
            "Epoch 4/15\n",
            "8/8 [==============================] - 2s 209ms/step - loss: 0.1325 - accuracy: 0.9625\n",
            "Epoch 5/15\n",
            "8/8 [==============================] - 2s 211ms/step - loss: 0.0914 - accuracy: 0.9500\n",
            "Epoch 6/15\n",
            "8/8 [==============================] - 2s 216ms/step - loss: 0.0644 - accuracy: 0.9750\n",
            "Epoch 7/15\n",
            "8/8 [==============================] - 2s 214ms/step - loss: 0.0263 - accuracy: 0.9875\n",
            "Epoch 8/15\n",
            "8/8 [==============================] - 2s 211ms/step - loss: 0.0359 - accuracy: 0.9875\n",
            "Epoch 9/15\n",
            "8/8 [==============================] - 2s 211ms/step - loss: 0.0072 - accuracy: 1.0000\n",
            "Reached 99.9% accuracy, cancelling training\n"
          ]
        }
      ]
    }
  ]
}